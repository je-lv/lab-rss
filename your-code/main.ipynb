{
 "cells": [
  {
   "cell_type": "markdown",
   "metadata": {},
   "source": [
    "# Working with RSS Feeds Lab\n",
    "\n",
    "Complete the following set of exercises to solidify your knowledge of parsing RSS feeds and extracting information from them."
   ]
  },
  {
   "cell_type": "code",
   "execution_count": 1,
   "metadata": {},
   "outputs": [],
   "source": [
    "import feedparser\n",
    "import requests as r"
   ]
  },
  {
   "cell_type": "markdown",
   "metadata": {},
   "source": [
    "### 1. Use feedparser to parse the following RSS feed URL."
   ]
  },
  {
   "cell_type": "code",
   "execution_count": 2,
   "metadata": {},
   "outputs": [],
   "source": [
    "url = 'http://feeds.feedburner.com/oreilly/radar/atom'"
   ]
  },
  {
   "cell_type": "markdown",
   "metadata": {},
   "source": [
    "### 2. Obtain a list of components (keys) that are available for this feed."
   ]
  },
  {
   "cell_type": "code",
   "execution_count": 3,
   "metadata": {},
   "outputs": [],
   "source": [
    "rss = feedparser.parse(url)"
   ]
  },
  {
   "cell_type": "code",
   "execution_count": 4,
   "metadata": {},
   "outputs": [
    {
     "data": {
      "text/plain": [
       "dict_keys(['feed', 'entries', 'bozo', 'headers', 'etag', 'updated', 'updated_parsed', 'href', 'status', 'encoding', 'version', 'namespaces'])"
      ]
     },
     "execution_count": 4,
     "metadata": {},
     "output_type": "execute_result"
    }
   ],
   "source": [
    "rss.keys()"
   ]
  },
  {
   "cell_type": "markdown",
   "metadata": {},
   "source": [
    "### 3. Obtain a list of components (keys) that are available for the *feed* component of this RSS feed."
   ]
  },
  {
   "cell_type": "code",
   "execution_count": 5,
   "metadata": {},
   "outputs": [
    {
     "data": {
      "text/plain": [
       "dict_keys(['title', 'title_detail', 'links', 'link', 'subtitle', 'subtitle_detail', 'updated', 'updated_parsed', 'language', 'sy_updateperiod', 'sy_updatefrequency', 'generator_detail', 'generator', 'feedburner_info', 'geo_lat', 'geo_long', 'feedburner_emailserviceid', 'feedburner_feedburnerhostname'])"
      ]
     },
     "execution_count": 5,
     "metadata": {},
     "output_type": "execute_result"
    }
   ],
   "source": [
    "rss['feed'].keys()"
   ]
  },
  {
   "cell_type": "code",
   "execution_count": 6,
   "metadata": {},
   "outputs": [
    {
     "data": {
      "text/plain": [
       "{'title': 'Radar',\n",
       " 'title_detail': {'type': 'text/plain',\n",
       "  'language': None,\n",
       "  'base': 'http://feeds.feedburner.com/oreilly/radar/atom',\n",
       "  'value': 'Radar'},\n",
       " 'links': [{'rel': 'alternate',\n",
       "   'type': 'text/html',\n",
       "   'href': 'https://www.oreilly.com/radar'},\n",
       "  {'rel': 'self',\n",
       "   'type': 'application/rss+xml',\n",
       "   'href': 'http://feeds.feedburner.com/oreilly/radar/atom'},\n",
       "  {'rel': 'hub',\n",
       "   'href': 'http://pubsubhubbub.appspot.com/',\n",
       "   'type': 'text/html'}],\n",
       " 'link': 'https://www.oreilly.com/radar',\n",
       " 'subtitle': 'Now, next, and beyond: Tracking need-to-know trends at the intersection of business and technology',\n",
       " 'subtitle_detail': {'type': 'text/html',\n",
       "  'language': None,\n",
       "  'base': 'http://feeds.feedburner.com/oreilly/radar/atom',\n",
       "  'value': 'Now, next, and beyond: Tracking need-to-know trends at the intersection of business and technology'},\n",
       " 'updated': 'Fri, 08 Nov 2019 12:51:42 +0000',\n",
       " 'updated_parsed': time.struct_time(tm_year=2019, tm_mon=11, tm_mday=8, tm_hour=12, tm_min=51, tm_sec=42, tm_wday=4, tm_yday=312, tm_isdst=0),\n",
       " 'language': 'en-US',\n",
       " 'sy_updateperiod': 'hourly',\n",
       " 'sy_updatefrequency': '1',\n",
       " 'generator_detail': {'name': 'https://wordpress.org/?v=5.2.4'},\n",
       " 'generator': 'https://wordpress.org/?v=5.2.4',\n",
       " 'feedburner_info': {'uri': 'oreilly/radar/atom'},\n",
       " 'geo_lat': '38.393314',\n",
       " 'geo_long': '-122.836667',\n",
       " 'feedburner_emailserviceid': 'oreilly/radar/atom',\n",
       " 'feedburner_feedburnerhostname': 'https://feedburner.google.com'}"
      ]
     },
     "execution_count": 6,
     "metadata": {},
     "output_type": "execute_result"
    }
   ],
   "source": [
    "rss['feed']"
   ]
  },
  {
   "cell_type": "markdown",
   "metadata": {},
   "source": [
    "### 4. Extract and print the feed title, subtitle, author, and link."
   ]
  },
  {
   "cell_type": "code",
   "execution_count": 7,
   "metadata": {},
   "outputs": [
    {
     "name": "stdout",
     "output_type": "stream",
     "text": [
      "Feed Title: Radar\n",
      "Feed Subtitle: Now, next, and beyond: Tracking need-to-know trends at the intersection of business and technology\n",
      "Feed Link: https://www.oreilly.com/radar\n"
     ]
    }
   ],
   "source": [
    "print(f\"Feed Title: {rss['feed']['title']}\\nFeed Subtitle: {rss['feed']['subtitle']}\\nFeed Link: {rss['feed']['link']}\")\n",
    "\n",
    "#no existe author dentro de feed"
   ]
  },
  {
   "cell_type": "markdown",
   "metadata": {},
   "source": [
    "### 5. Count the number of entries that are contained in this RSS feed."
   ]
  },
  {
   "cell_type": "code",
   "execution_count": 8,
   "metadata": {},
   "outputs": [
    {
     "data": {
      "text/plain": [
       "18"
      ]
     },
     "execution_count": 8,
     "metadata": {},
     "output_type": "execute_result"
    }
   ],
   "source": [
    "len(rss['entries'])"
   ]
  },
  {
   "cell_type": "markdown",
   "metadata": {},
   "source": [
    "### 6. Obtain a list of components (keys) available for an entry.\n",
    "\n",
    "*Hint: Remember to index first before requesting the keys*"
   ]
  },
  {
   "cell_type": "code",
   "execution_count": 9,
   "metadata": {},
   "outputs": [
    {
     "data": {
      "text/plain": [
       "dict_keys(['title', 'title_detail', 'links', 'link', 'comments', 'published', 'published_parsed', 'authors', 'author', 'author_detail', 'tags', 'id', 'guidislink', 'summary', 'summary_detail', 'content', 'wfw_commentrss', 'slash_comments', 'feedburner_origlink'])"
      ]
     },
     "execution_count": 9,
     "metadata": {},
     "output_type": "execute_result"
    }
   ],
   "source": [
    "rss['entries'][0].keys()"
   ]
  },
  {
   "cell_type": "markdown",
   "metadata": {},
   "source": [
    "### 7. Extract a list of entry titles."
   ]
  },
  {
   "cell_type": "code",
   "execution_count": 10,
   "metadata": {},
   "outputs": [],
   "source": [
    "entry_titles = [i['title'] for i in rss['entries']]"
   ]
  },
  {
   "cell_type": "code",
   "execution_count": 11,
   "metadata": {},
   "outputs": [
    {
     "data": {
      "text/plain": [
       "['Bitcoin and the disruption of monetary oppression',\n",
       " 'Four short links: 8 November 2019',\n",
       " 'Highlights from the O’Reilly Software Architecture Conference in Berlin 2019',\n",
       " 'Highlights from the O’Reilly Velocity Conference in Berlin 2019',\n",
       " 'From the trenches: Patrick Kua',\n",
       " '5 things Go taught me about open source?',\n",
       " 'Building high-performing engineering teams, one pixel at a time',\n",
       " 'How to deploy infrastructure in just 13.8 billion years',\n",
       " 'Controlled chaos: The inevitable marriage of DevOps and security',\n",
       " 'The ultimate guide to complicated systems',\n",
       " 'Cognitive biases in the architect’s life',\n",
       " 'The three-headed dog: Architecture, process, structure',\n",
       " 'A world of deepfakes',\n",
       " 'Radar trends to watch: November 2019',\n",
       " 'Four short links: 7 November 2019',\n",
       " 'Modern machine learning architectures: Data and hardware and platform, oh my',\n",
       " 'The new norms of cloud native',\n",
       " 'Observability: Understanding production through your customers’ eyes']"
      ]
     },
     "execution_count": 11,
     "metadata": {},
     "output_type": "execute_result"
    }
   ],
   "source": [
    "entry_titles"
   ]
  },
  {
   "cell_type": "markdown",
   "metadata": {},
   "source": [
    "### 8. Calculate the percentage of \"Four short links\" entry titles."
   ]
  },
  {
   "cell_type": "code",
   "execution_count": 12,
   "metadata": {},
   "outputs": [],
   "source": [
    "percentage = str(round(len([i for i in entry_titles if \"Four short links\" in i])/len(entry_titles) * 100, 2)) + \"%\""
   ]
  },
  {
   "cell_type": "code",
   "execution_count": 13,
   "metadata": {},
   "outputs": [
    {
     "data": {
      "text/plain": [
       "'11.11%'"
      ]
     },
     "execution_count": 13,
     "metadata": {},
     "output_type": "execute_result"
    }
   ],
   "source": [
    "percentage"
   ]
  },
  {
   "cell_type": "markdown",
   "metadata": {},
   "source": [
    "### 9. Create a Pandas data frame from the feed's entries."
   ]
  },
  {
   "cell_type": "code",
   "execution_count": 14,
   "metadata": {},
   "outputs": [],
   "source": [
    "import pandas as pd"
   ]
  },
  {
   "cell_type": "code",
   "execution_count": 15,
   "metadata": {},
   "outputs": [],
   "source": [
    "rss_df = pd.DataFrame(rss['entries'])"
   ]
  },
  {
   "cell_type": "code",
   "execution_count": 26,
   "metadata": {},
   "outputs": [
    {
     "data": {
      "text/html": [
       "<div>\n",
       "<style scoped>\n",
       "    .dataframe tbody tr th:only-of-type {\n",
       "        vertical-align: middle;\n",
       "    }\n",
       "\n",
       "    .dataframe tbody tr th {\n",
       "        vertical-align: top;\n",
       "    }\n",
       "\n",
       "    .dataframe thead th {\n",
       "        text-align: right;\n",
       "    }\n",
       "</style>\n",
       "<table border=\"1\" class=\"dataframe\">\n",
       "  <thead>\n",
       "    <tr style=\"text-align: right;\">\n",
       "      <th></th>\n",
       "      <th>author</th>\n",
       "      <th>author_detail</th>\n",
       "      <th>authors</th>\n",
       "      <th>comments</th>\n",
       "      <th>content</th>\n",
       "      <th>feedburner_origlink</th>\n",
       "      <th>guidislink</th>\n",
       "      <th>id</th>\n",
       "      <th>link</th>\n",
       "      <th>links</th>\n",
       "      <th>published</th>\n",
       "      <th>published_parsed</th>\n",
       "      <th>slash_comments</th>\n",
       "      <th>summary</th>\n",
       "      <th>summary_detail</th>\n",
       "      <th>tags</th>\n",
       "      <th>title</th>\n",
       "      <th>title_detail</th>\n",
       "      <th>wfw_commentrss</th>\n",
       "    </tr>\n",
       "  </thead>\n",
       "  <tbody>\n",
       "    <tr>\n",
       "      <th>0</th>\n",
       "      <td>Jenn Webb</td>\n",
       "      <td>{'name': 'Jenn Webb'}</td>\n",
       "      <td>[{'name': 'Jenn Webb'}]</td>\n",
       "      <td>https://www.oreilly.com/radar/bitcoin-and-the-...</td>\n",
       "      <td>[{'type': 'text/html', 'language': None, 'base...</td>\n",
       "      <td>https://www.oreilly.com/radar/bitcoin-and-the-...</td>\n",
       "      <td>False</td>\n",
       "      <td>https://www.oreilly.com/radar/?p=9571</td>\n",
       "      <td>http://feedproxy.google.com/~r/oreilly/radar/a...</td>\n",
       "      <td>[{'rel': 'alternate', 'type': 'text/html', 'hr...</td>\n",
       "      <td>Fri, 08 Nov 2019 05:10:27 +0000</td>\n",
       "      <td>(2019, 11, 8, 5, 10, 27, 4, 312, 0)</td>\n",
       "      <td>0</td>\n",
       "      <td>In this interview from O&amp;#8217;Reilly Foo Camp...</td>\n",
       "      <td>{'type': 'text/html', 'language': None, 'base'...</td>\n",
       "      <td>[{'term': 'Innovation &amp; Disruption', 'scheme':...</td>\n",
       "      <td>Bitcoin and the disruption of monetary oppression</td>\n",
       "      <td>{'type': 'text/plain', 'language': None, 'base...</td>\n",
       "      <td>https://www.oreilly.com/radar/bitcoin-and-the-...</td>\n",
       "    </tr>\n",
       "    <tr>\n",
       "      <th>1</th>\n",
       "      <td>Nat Torkington</td>\n",
       "      <td>{'name': 'Nat Torkington'}</td>\n",
       "      <td>[{'name': 'Nat Torkington'}]</td>\n",
       "      <td>https://www.oreilly.com/radar/four-short-links...</td>\n",
       "      <td>[{'type': 'text/html', 'language': None, 'base...</td>\n",
       "      <td>https://www.oreilly.com/radar/four-short-links...</td>\n",
       "      <td>False</td>\n",
       "      <td>https://www.oreilly.com/radar/?p=10775</td>\n",
       "      <td>http://feedproxy.google.com/~r/oreilly/radar/a...</td>\n",
       "      <td>[{'rel': 'alternate', 'type': 'text/html', 'hr...</td>\n",
       "      <td>Fri, 08 Nov 2019 05:01:04 +0000</td>\n",
       "      <td>(2019, 11, 8, 5, 1, 4, 4, 312, 0)</td>\n",
       "      <td>0</td>\n",
       "      <td>Probabilistic Scripts for Automating Common-Se...</td>\n",
       "      <td>{'type': 'text/html', 'language': None, 'base'...</td>\n",
       "      <td>[{'term': 'Four Short Links', 'scheme': None, ...</td>\n",
       "      <td>Four short links: 8 November 2019</td>\n",
       "      <td>{'type': 'text/plain', 'language': None, 'base...</td>\n",
       "      <td>https://www.oreilly.com/radar/four-short-links...</td>\n",
       "    </tr>\n",
       "    <tr>\n",
       "      <th>2</th>\n",
       "      <td>Mac Slocum</td>\n",
       "      <td>{'name': 'Mac Slocum'}</td>\n",
       "      <td>[{'name': 'Mac Slocum'}]</td>\n",
       "      <td>https://www.oreilly.com/radar/highlights-from-...</td>\n",
       "      <td>[{'type': 'text/html', 'language': None, 'base...</td>\n",
       "      <td>https://www.oreilly.com/radar/highlights-from-...</td>\n",
       "      <td>False</td>\n",
       "      <td>https://www.oreilly.com/radar/?p=10569</td>\n",
       "      <td>http://feedproxy.google.com/~r/oreilly/radar/a...</td>\n",
       "      <td>[{'rel': 'alternate', 'type': 'text/html', 'hr...</td>\n",
       "      <td>Thu, 07 Nov 2019 20:10:44 +0000</td>\n",
       "      <td>(2019, 11, 7, 20, 10, 44, 3, 311, 0)</td>\n",
       "      <td>0</td>\n",
       "      <td>Experts from across the software architecture ...</td>\n",
       "      <td>{'type': 'text/html', 'language': None, 'base'...</td>\n",
       "      <td>[{'term': 'Next Architecture', 'scheme': None,...</td>\n",
       "      <td>Highlights from the O’Reilly Software Architec...</td>\n",
       "      <td>{'type': 'text/plain', 'language': None, 'base...</td>\n",
       "      <td>https://www.oreilly.com/radar/highlights-from-...</td>\n",
       "    </tr>\n",
       "  </tbody>\n",
       "</table>\n",
       "</div>"
      ],
      "text/plain": [
       "           author               author_detail                       authors  \\\n",
       "0       Jenn Webb       {'name': 'Jenn Webb'}       [{'name': 'Jenn Webb'}]   \n",
       "1  Nat Torkington  {'name': 'Nat Torkington'}  [{'name': 'Nat Torkington'}]   \n",
       "2      Mac Slocum      {'name': 'Mac Slocum'}      [{'name': 'Mac Slocum'}]   \n",
       "\n",
       "                                            comments  \\\n",
       "0  https://www.oreilly.com/radar/bitcoin-and-the-...   \n",
       "1  https://www.oreilly.com/radar/four-short-links...   \n",
       "2  https://www.oreilly.com/radar/highlights-from-...   \n",
       "\n",
       "                                             content  \\\n",
       "0  [{'type': 'text/html', 'language': None, 'base...   \n",
       "1  [{'type': 'text/html', 'language': None, 'base...   \n",
       "2  [{'type': 'text/html', 'language': None, 'base...   \n",
       "\n",
       "                                 feedburner_origlink  guidislink  \\\n",
       "0  https://www.oreilly.com/radar/bitcoin-and-the-...       False   \n",
       "1  https://www.oreilly.com/radar/four-short-links...       False   \n",
       "2  https://www.oreilly.com/radar/highlights-from-...       False   \n",
       "\n",
       "                                       id  \\\n",
       "0   https://www.oreilly.com/radar/?p=9571   \n",
       "1  https://www.oreilly.com/radar/?p=10775   \n",
       "2  https://www.oreilly.com/radar/?p=10569   \n",
       "\n",
       "                                                link  \\\n",
       "0  http://feedproxy.google.com/~r/oreilly/radar/a...   \n",
       "1  http://feedproxy.google.com/~r/oreilly/radar/a...   \n",
       "2  http://feedproxy.google.com/~r/oreilly/radar/a...   \n",
       "\n",
       "                                               links  \\\n",
       "0  [{'rel': 'alternate', 'type': 'text/html', 'hr...   \n",
       "1  [{'rel': 'alternate', 'type': 'text/html', 'hr...   \n",
       "2  [{'rel': 'alternate', 'type': 'text/html', 'hr...   \n",
       "\n",
       "                         published                      published_parsed  \\\n",
       "0  Fri, 08 Nov 2019 05:10:27 +0000   (2019, 11, 8, 5, 10, 27, 4, 312, 0)   \n",
       "1  Fri, 08 Nov 2019 05:01:04 +0000     (2019, 11, 8, 5, 1, 4, 4, 312, 0)   \n",
       "2  Thu, 07 Nov 2019 20:10:44 +0000  (2019, 11, 7, 20, 10, 44, 3, 311, 0)   \n",
       "\n",
       "  slash_comments                                            summary  \\\n",
       "0              0  In this interview from O&#8217;Reilly Foo Camp...   \n",
       "1              0  Probabilistic Scripts for Automating Common-Se...   \n",
       "2              0  Experts from across the software architecture ...   \n",
       "\n",
       "                                      summary_detail  \\\n",
       "0  {'type': 'text/html', 'language': None, 'base'...   \n",
       "1  {'type': 'text/html', 'language': None, 'base'...   \n",
       "2  {'type': 'text/html', 'language': None, 'base'...   \n",
       "\n",
       "                                                tags  \\\n",
       "0  [{'term': 'Innovation & Disruption', 'scheme':...   \n",
       "1  [{'term': 'Four Short Links', 'scheme': None, ...   \n",
       "2  [{'term': 'Next Architecture', 'scheme': None,...   \n",
       "\n",
       "                                               title  \\\n",
       "0  Bitcoin and the disruption of monetary oppression   \n",
       "1                  Four short links: 8 November 2019   \n",
       "2  Highlights from the O’Reilly Software Architec...   \n",
       "\n",
       "                                        title_detail  \\\n",
       "0  {'type': 'text/plain', 'language': None, 'base...   \n",
       "1  {'type': 'text/plain', 'language': None, 'base...   \n",
       "2  {'type': 'text/plain', 'language': None, 'base...   \n",
       "\n",
       "                                      wfw_commentrss  \n",
       "0  https://www.oreilly.com/radar/bitcoin-and-the-...  \n",
       "1  https://www.oreilly.com/radar/four-short-links...  \n",
       "2  https://www.oreilly.com/radar/highlights-from-...  "
      ]
     },
     "execution_count": 26,
     "metadata": {},
     "output_type": "execute_result"
    }
   ],
   "source": [
    "rss_df.head(3)"
   ]
  },
  {
   "cell_type": "markdown",
   "metadata": {},
   "source": [
    "### 10. Count the number of entries per author and sort them in descending order."
   ]
  },
  {
   "cell_type": "code",
   "execution_count": 25,
   "metadata": {},
   "outputs": [
    {
     "data": {
      "text/plain": [
       "Mac Slocum                      2\n",
       "Nat Torkington                  2\n",
       "Allen Holub                     1\n",
       "Birgitta Boeckeler              1\n",
       "Brian Sletten                   1\n",
       "Jenn Webb                       1\n",
       "Christine Yen                   1\n",
       "Ingrid Burrington               1\n",
       "Kelly Shortridge                1\n",
       "Lena Reinhard                   1\n",
       "Ben Lorica and Mike Loukides    1\n",
       "Mike Loukides                   1\n",
       "Cheryl Hung                     1\n",
       "Dave Cheney                     1\n",
       "Patrick Kua and Neal Ford       1\n",
       "Jennifer Davis                  1\n",
       "Name: author, dtype: int64"
      ]
     },
     "execution_count": 25,
     "metadata": {},
     "output_type": "execute_result"
    }
   ],
   "source": [
    "rss_df['author'].value_counts(ascending=False)"
   ]
  },
  {
   "cell_type": "markdown",
   "metadata": {},
   "source": [
    "### 11. Add a new column to the data frame that contains the length (number of characters) of each entry title. Return a data frame that contains the title, author, and title length of each entry in descending order (longest title length at the top)."
   ]
  },
  {
   "cell_type": "code",
   "execution_count": 54,
   "metadata": {},
   "outputs": [],
   "source": [
    "rss_df = rss_df.assign(Title_lenght = rss_df['title'].apply(len))"
   ]
  },
  {
   "cell_type": "code",
   "execution_count": 58,
   "metadata": {},
   "outputs": [
    {
     "data": {
      "text/html": [
       "<div>\n",
       "<style scoped>\n",
       "    .dataframe tbody tr th:only-of-type {\n",
       "        vertical-align: middle;\n",
       "    }\n",
       "\n",
       "    .dataframe tbody tr th {\n",
       "        vertical-align: top;\n",
       "    }\n",
       "\n",
       "    .dataframe thead th {\n",
       "        text-align: right;\n",
       "    }\n",
       "</style>\n",
       "<table border=\"1\" class=\"dataframe\">\n",
       "  <thead>\n",
       "    <tr style=\"text-align: right;\">\n",
       "      <th></th>\n",
       "      <th>author</th>\n",
       "      <th>author_detail</th>\n",
       "      <th>authors</th>\n",
       "      <th>comments</th>\n",
       "      <th>content</th>\n",
       "      <th>feedburner_origlink</th>\n",
       "      <th>guidislink</th>\n",
       "      <th>id</th>\n",
       "      <th>link</th>\n",
       "      <th>links</th>\n",
       "      <th>published</th>\n",
       "      <th>published_parsed</th>\n",
       "      <th>slash_comments</th>\n",
       "      <th>summary</th>\n",
       "      <th>summary_detail</th>\n",
       "      <th>tags</th>\n",
       "      <th>title</th>\n",
       "      <th>title_detail</th>\n",
       "      <th>wfw_commentrss</th>\n",
       "      <th>Title_lenght</th>\n",
       "    </tr>\n",
       "  </thead>\n",
       "  <tbody>\n",
       "    <tr>\n",
       "      <th>0</th>\n",
       "      <td>Jenn Webb</td>\n",
       "      <td>{'name': 'Jenn Webb'}</td>\n",
       "      <td>[{'name': 'Jenn Webb'}]</td>\n",
       "      <td>https://www.oreilly.com/radar/bitcoin-and-the-...</td>\n",
       "      <td>[{'type': 'text/html', 'language': None, 'base...</td>\n",
       "      <td>https://www.oreilly.com/radar/bitcoin-and-the-...</td>\n",
       "      <td>False</td>\n",
       "      <td>https://www.oreilly.com/radar/?p=9571</td>\n",
       "      <td>http://feedproxy.google.com/~r/oreilly/radar/a...</td>\n",
       "      <td>[{'rel': 'alternate', 'type': 'text/html', 'hr...</td>\n",
       "      <td>Fri, 08 Nov 2019 05:10:27 +0000</td>\n",
       "      <td>(2019, 11, 8, 5, 10, 27, 4, 312, 0)</td>\n",
       "      <td>0</td>\n",
       "      <td>In this interview from O&amp;#8217;Reilly Foo Camp...</td>\n",
       "      <td>{'type': 'text/html', 'language': None, 'base'...</td>\n",
       "      <td>[{'term': 'Innovation &amp; Disruption', 'scheme':...</td>\n",
       "      <td>Bitcoin and the disruption of monetary oppression</td>\n",
       "      <td>{'type': 'text/plain', 'language': None, 'base...</td>\n",
       "      <td>https://www.oreilly.com/radar/bitcoin-and-the-...</td>\n",
       "      <td>49</td>\n",
       "    </tr>\n",
       "    <tr>\n",
       "      <th>1</th>\n",
       "      <td>Nat Torkington</td>\n",
       "      <td>{'name': 'Nat Torkington'}</td>\n",
       "      <td>[{'name': 'Nat Torkington'}]</td>\n",
       "      <td>https://www.oreilly.com/radar/four-short-links...</td>\n",
       "      <td>[{'type': 'text/html', 'language': None, 'base...</td>\n",
       "      <td>https://www.oreilly.com/radar/four-short-links...</td>\n",
       "      <td>False</td>\n",
       "      <td>https://www.oreilly.com/radar/?p=10775</td>\n",
       "      <td>http://feedproxy.google.com/~r/oreilly/radar/a...</td>\n",
       "      <td>[{'rel': 'alternate', 'type': 'text/html', 'hr...</td>\n",
       "      <td>Fri, 08 Nov 2019 05:01:04 +0000</td>\n",
       "      <td>(2019, 11, 8, 5, 1, 4, 4, 312, 0)</td>\n",
       "      <td>0</td>\n",
       "      <td>Probabilistic Scripts for Automating Common-Se...</td>\n",
       "      <td>{'type': 'text/html', 'language': None, 'base'...</td>\n",
       "      <td>[{'term': 'Four Short Links', 'scheme': None, ...</td>\n",
       "      <td>Four short links: 8 November 2019</td>\n",
       "      <td>{'type': 'text/plain', 'language': None, 'base...</td>\n",
       "      <td>https://www.oreilly.com/radar/four-short-links...</td>\n",
       "      <td>33</td>\n",
       "    </tr>\n",
       "    <tr>\n",
       "      <th>2</th>\n",
       "      <td>Mac Slocum</td>\n",
       "      <td>{'name': 'Mac Slocum'}</td>\n",
       "      <td>[{'name': 'Mac Slocum'}]</td>\n",
       "      <td>https://www.oreilly.com/radar/highlights-from-...</td>\n",
       "      <td>[{'type': 'text/html', 'language': None, 'base...</td>\n",
       "      <td>https://www.oreilly.com/radar/highlights-from-...</td>\n",
       "      <td>False</td>\n",
       "      <td>https://www.oreilly.com/radar/?p=10569</td>\n",
       "      <td>http://feedproxy.google.com/~r/oreilly/radar/a...</td>\n",
       "      <td>[{'rel': 'alternate', 'type': 'text/html', 'hr...</td>\n",
       "      <td>Thu, 07 Nov 2019 20:10:44 +0000</td>\n",
       "      <td>(2019, 11, 7, 20, 10, 44, 3, 311, 0)</td>\n",
       "      <td>0</td>\n",
       "      <td>Experts from across the software architecture ...</td>\n",
       "      <td>{'type': 'text/html', 'language': None, 'base'...</td>\n",
       "      <td>[{'term': 'Next Architecture', 'scheme': None,...</td>\n",
       "      <td>Highlights from the O’Reilly Software Architec...</td>\n",
       "      <td>{'type': 'text/plain', 'language': None, 'base...</td>\n",
       "      <td>https://www.oreilly.com/radar/highlights-from-...</td>\n",
       "      <td>76</td>\n",
       "    </tr>\n",
       "  </tbody>\n",
       "</table>\n",
       "</div>"
      ],
      "text/plain": [
       "           author               author_detail                       authors  \\\n",
       "0       Jenn Webb       {'name': 'Jenn Webb'}       [{'name': 'Jenn Webb'}]   \n",
       "1  Nat Torkington  {'name': 'Nat Torkington'}  [{'name': 'Nat Torkington'}]   \n",
       "2      Mac Slocum      {'name': 'Mac Slocum'}      [{'name': 'Mac Slocum'}]   \n",
       "\n",
       "                                            comments  \\\n",
       "0  https://www.oreilly.com/radar/bitcoin-and-the-...   \n",
       "1  https://www.oreilly.com/radar/four-short-links...   \n",
       "2  https://www.oreilly.com/radar/highlights-from-...   \n",
       "\n",
       "                                             content  \\\n",
       "0  [{'type': 'text/html', 'language': None, 'base...   \n",
       "1  [{'type': 'text/html', 'language': None, 'base...   \n",
       "2  [{'type': 'text/html', 'language': None, 'base...   \n",
       "\n",
       "                                 feedburner_origlink  guidislink  \\\n",
       "0  https://www.oreilly.com/radar/bitcoin-and-the-...       False   \n",
       "1  https://www.oreilly.com/radar/four-short-links...       False   \n",
       "2  https://www.oreilly.com/radar/highlights-from-...       False   \n",
       "\n",
       "                                       id  \\\n",
       "0   https://www.oreilly.com/radar/?p=9571   \n",
       "1  https://www.oreilly.com/radar/?p=10775   \n",
       "2  https://www.oreilly.com/radar/?p=10569   \n",
       "\n",
       "                                                link  \\\n",
       "0  http://feedproxy.google.com/~r/oreilly/radar/a...   \n",
       "1  http://feedproxy.google.com/~r/oreilly/radar/a...   \n",
       "2  http://feedproxy.google.com/~r/oreilly/radar/a...   \n",
       "\n",
       "                                               links  \\\n",
       "0  [{'rel': 'alternate', 'type': 'text/html', 'hr...   \n",
       "1  [{'rel': 'alternate', 'type': 'text/html', 'hr...   \n",
       "2  [{'rel': 'alternate', 'type': 'text/html', 'hr...   \n",
       "\n",
       "                         published                      published_parsed  \\\n",
       "0  Fri, 08 Nov 2019 05:10:27 +0000   (2019, 11, 8, 5, 10, 27, 4, 312, 0)   \n",
       "1  Fri, 08 Nov 2019 05:01:04 +0000     (2019, 11, 8, 5, 1, 4, 4, 312, 0)   \n",
       "2  Thu, 07 Nov 2019 20:10:44 +0000  (2019, 11, 7, 20, 10, 44, 3, 311, 0)   \n",
       "\n",
       "  slash_comments                                            summary  \\\n",
       "0              0  In this interview from O&#8217;Reilly Foo Camp...   \n",
       "1              0  Probabilistic Scripts for Automating Common-Se...   \n",
       "2              0  Experts from across the software architecture ...   \n",
       "\n",
       "                                      summary_detail  \\\n",
       "0  {'type': 'text/html', 'language': None, 'base'...   \n",
       "1  {'type': 'text/html', 'language': None, 'base'...   \n",
       "2  {'type': 'text/html', 'language': None, 'base'...   \n",
       "\n",
       "                                                tags  \\\n",
       "0  [{'term': 'Innovation & Disruption', 'scheme':...   \n",
       "1  [{'term': 'Four Short Links', 'scheme': None, ...   \n",
       "2  [{'term': 'Next Architecture', 'scheme': None,...   \n",
       "\n",
       "                                               title  \\\n",
       "0  Bitcoin and the disruption of monetary oppression   \n",
       "1                  Four short links: 8 November 2019   \n",
       "2  Highlights from the O’Reilly Software Architec...   \n",
       "\n",
       "                                        title_detail  \\\n",
       "0  {'type': 'text/plain', 'language': None, 'base...   \n",
       "1  {'type': 'text/plain', 'language': None, 'base...   \n",
       "2  {'type': 'text/plain', 'language': None, 'base...   \n",
       "\n",
       "                                      wfw_commentrss  Title_lenght  \n",
       "0  https://www.oreilly.com/radar/bitcoin-and-the-...            49  \n",
       "1  https://www.oreilly.com/radar/four-short-links...            33  \n",
       "2  https://www.oreilly.com/radar/highlights-from-...            76  "
      ]
     },
     "execution_count": 58,
     "metadata": {},
     "output_type": "execute_result"
    }
   ],
   "source": [
    "rss_df.head(3)"
   ]
  },
  {
   "cell_type": "markdown",
   "metadata": {},
   "source": [
    "### 12. Create a list of entry titles whose summary includes the phrase \"machine learning.\""
   ]
  },
  {
   "cell_type": "code",
   "execution_count": 86,
   "metadata": {},
   "outputs": [],
   "source": [
    "ml = rss_df[rss_df['summary'].str.contains(\"machine learning\") | rss_df['summary'].str.contains(\"Machine learning\")]"
   ]
  },
  {
   "cell_type": "code",
   "execution_count": 87,
   "metadata": {},
   "outputs": [
    {
     "data": {
      "text/html": [
       "<div>\n",
       "<style scoped>\n",
       "    .dataframe tbody tr th:only-of-type {\n",
       "        vertical-align: middle;\n",
       "    }\n",
       "\n",
       "    .dataframe tbody tr th {\n",
       "        vertical-align: top;\n",
       "    }\n",
       "\n",
       "    .dataframe thead th {\n",
       "        text-align: right;\n",
       "    }\n",
       "</style>\n",
       "<table border=\"1\" class=\"dataframe\">\n",
       "  <thead>\n",
       "    <tr style=\"text-align: right;\">\n",
       "      <th></th>\n",
       "      <th>author</th>\n",
       "      <th>author_detail</th>\n",
       "      <th>authors</th>\n",
       "      <th>comments</th>\n",
       "      <th>content</th>\n",
       "      <th>feedburner_origlink</th>\n",
       "      <th>guidislink</th>\n",
       "      <th>id</th>\n",
       "      <th>link</th>\n",
       "      <th>links</th>\n",
       "      <th>published</th>\n",
       "      <th>published_parsed</th>\n",
       "      <th>slash_comments</th>\n",
       "      <th>summary</th>\n",
       "      <th>summary_detail</th>\n",
       "      <th>tags</th>\n",
       "      <th>title</th>\n",
       "      <th>title_detail</th>\n",
       "      <th>wfw_commentrss</th>\n",
       "      <th>Title_lenght</th>\n",
       "    </tr>\n",
       "  </thead>\n",
       "  <tbody>\n",
       "  </tbody>\n",
       "</table>\n",
       "</div>"
      ],
      "text/plain": [
       "Empty DataFrame\n",
       "Columns: [author, author_detail, authors, comments, content, feedburner_origlink, guidislink, id, link, links, published, published_parsed, slash_comments, summary, summary_detail, tags, title, title_detail, wfw_commentrss, Title_lenght]\n",
       "Index: []"
      ]
     },
     "execution_count": 87,
     "metadata": {},
     "output_type": "execute_result"
    }
   ],
   "source": [
    "ml"
   ]
  },
  {
   "cell_type": "code",
   "execution_count": 94,
   "metadata": {},
   "outputs": [],
   "source": [
    "test = rss_df[rss_df['summary'].str.contains(\"software\") | rss_df['summary'].str.contains(\"Bitcoin\")]"
   ]
  },
  {
   "cell_type": "code",
   "execution_count": 95,
   "metadata": {},
   "outputs": [
    {
     "data": {
      "text/html": [
       "<div>\n",
       "<style scoped>\n",
       "    .dataframe tbody tr th:only-of-type {\n",
       "        vertical-align: middle;\n",
       "    }\n",
       "\n",
       "    .dataframe tbody tr th {\n",
       "        vertical-align: top;\n",
       "    }\n",
       "\n",
       "    .dataframe thead th {\n",
       "        text-align: right;\n",
       "    }\n",
       "</style>\n",
       "<table border=\"1\" class=\"dataframe\">\n",
       "  <thead>\n",
       "    <tr style=\"text-align: right;\">\n",
       "      <th></th>\n",
       "      <th>author</th>\n",
       "      <th>author_detail</th>\n",
       "      <th>authors</th>\n",
       "      <th>comments</th>\n",
       "      <th>content</th>\n",
       "      <th>feedburner_origlink</th>\n",
       "      <th>guidislink</th>\n",
       "      <th>id</th>\n",
       "      <th>link</th>\n",
       "      <th>links</th>\n",
       "      <th>published</th>\n",
       "      <th>published_parsed</th>\n",
       "      <th>slash_comments</th>\n",
       "      <th>summary</th>\n",
       "      <th>summary_detail</th>\n",
       "      <th>tags</th>\n",
       "      <th>title</th>\n",
       "      <th>title_detail</th>\n",
       "      <th>wfw_commentrss</th>\n",
       "      <th>Title_lenght</th>\n",
       "    </tr>\n",
       "  </thead>\n",
       "  <tbody>\n",
       "    <tr>\n",
       "      <th>0</th>\n",
       "      <td>Jenn Webb</td>\n",
       "      <td>{'name': 'Jenn Webb'}</td>\n",
       "      <td>[{'name': 'Jenn Webb'}]</td>\n",
       "      <td>https://www.oreilly.com/radar/bitcoin-and-the-...</td>\n",
       "      <td>[{'type': 'text/html', 'language': None, 'base...</td>\n",
       "      <td>https://www.oreilly.com/radar/bitcoin-and-the-...</td>\n",
       "      <td>False</td>\n",
       "      <td>https://www.oreilly.com/radar/?p=9571</td>\n",
       "      <td>http://feedproxy.google.com/~r/oreilly/radar/a...</td>\n",
       "      <td>[{'rel': 'alternate', 'type': 'text/html', 'hr...</td>\n",
       "      <td>Fri, 08 Nov 2019 05:10:27 +0000</td>\n",
       "      <td>(2019, 11, 8, 5, 10, 27, 4, 312, 0)</td>\n",
       "      <td>0</td>\n",
       "      <td>In this interview from O&amp;#8217;Reilly Foo Camp...</td>\n",
       "      <td>{'type': 'text/html', 'language': None, 'base'...</td>\n",
       "      <td>[{'term': 'Innovation &amp; Disruption', 'scheme':...</td>\n",
       "      <td>Bitcoin and the disruption of monetary oppression</td>\n",
       "      <td>{'type': 'text/plain', 'language': None, 'base...</td>\n",
       "      <td>https://www.oreilly.com/radar/bitcoin-and-the-...</td>\n",
       "      <td>49</td>\n",
       "    </tr>\n",
       "    <tr>\n",
       "      <th>2</th>\n",
       "      <td>Mac Slocum</td>\n",
       "      <td>{'name': 'Mac Slocum'}</td>\n",
       "      <td>[{'name': 'Mac Slocum'}]</td>\n",
       "      <td>https://www.oreilly.com/radar/highlights-from-...</td>\n",
       "      <td>[{'type': 'text/html', 'language': None, 'base...</td>\n",
       "      <td>https://www.oreilly.com/radar/highlights-from-...</td>\n",
       "      <td>False</td>\n",
       "      <td>https://www.oreilly.com/radar/?p=10569</td>\n",
       "      <td>http://feedproxy.google.com/~r/oreilly/radar/a...</td>\n",
       "      <td>[{'rel': 'alternate', 'type': 'text/html', 'hr...</td>\n",
       "      <td>Thu, 07 Nov 2019 20:10:44 +0000</td>\n",
       "      <td>(2019, 11, 7, 20, 10, 44, 3, 311, 0)</td>\n",
       "      <td>0</td>\n",
       "      <td>Experts from across the software architecture ...</td>\n",
       "      <td>{'type': 'text/html', 'language': None, 'base'...</td>\n",
       "      <td>[{'term': 'Next Architecture', 'scheme': None,...</td>\n",
       "      <td>Highlights from the O’Reilly Software Architec...</td>\n",
       "      <td>{'type': 'text/plain', 'language': None, 'base...</td>\n",
       "      <td>https://www.oreilly.com/radar/highlights-from-...</td>\n",
       "      <td>76</td>\n",
       "    </tr>\n",
       "  </tbody>\n",
       "</table>\n",
       "</div>"
      ],
      "text/plain": [
       "       author           author_detail                   authors  \\\n",
       "0   Jenn Webb   {'name': 'Jenn Webb'}   [{'name': 'Jenn Webb'}]   \n",
       "2  Mac Slocum  {'name': 'Mac Slocum'}  [{'name': 'Mac Slocum'}]   \n",
       "\n",
       "                                            comments  \\\n",
       "0  https://www.oreilly.com/radar/bitcoin-and-the-...   \n",
       "2  https://www.oreilly.com/radar/highlights-from-...   \n",
       "\n",
       "                                             content  \\\n",
       "0  [{'type': 'text/html', 'language': None, 'base...   \n",
       "2  [{'type': 'text/html', 'language': None, 'base...   \n",
       "\n",
       "                                 feedburner_origlink  guidislink  \\\n",
       "0  https://www.oreilly.com/radar/bitcoin-and-the-...       False   \n",
       "2  https://www.oreilly.com/radar/highlights-from-...       False   \n",
       "\n",
       "                                       id  \\\n",
       "0   https://www.oreilly.com/radar/?p=9571   \n",
       "2  https://www.oreilly.com/radar/?p=10569   \n",
       "\n",
       "                                                link  \\\n",
       "0  http://feedproxy.google.com/~r/oreilly/radar/a...   \n",
       "2  http://feedproxy.google.com/~r/oreilly/radar/a...   \n",
       "\n",
       "                                               links  \\\n",
       "0  [{'rel': 'alternate', 'type': 'text/html', 'hr...   \n",
       "2  [{'rel': 'alternate', 'type': 'text/html', 'hr...   \n",
       "\n",
       "                         published                      published_parsed  \\\n",
       "0  Fri, 08 Nov 2019 05:10:27 +0000   (2019, 11, 8, 5, 10, 27, 4, 312, 0)   \n",
       "2  Thu, 07 Nov 2019 20:10:44 +0000  (2019, 11, 7, 20, 10, 44, 3, 311, 0)   \n",
       "\n",
       "  slash_comments                                            summary  \\\n",
       "0              0  In this interview from O&#8217;Reilly Foo Camp...   \n",
       "2              0  Experts from across the software architecture ...   \n",
       "\n",
       "                                      summary_detail  \\\n",
       "0  {'type': 'text/html', 'language': None, 'base'...   \n",
       "2  {'type': 'text/html', 'language': None, 'base'...   \n",
       "\n",
       "                                                tags  \\\n",
       "0  [{'term': 'Innovation & Disruption', 'scheme':...   \n",
       "2  [{'term': 'Next Architecture', 'scheme': None,...   \n",
       "\n",
       "                                               title  \\\n",
       "0  Bitcoin and the disruption of monetary oppression   \n",
       "2  Highlights from the O’Reilly Software Architec...   \n",
       "\n",
       "                                        title_detail  \\\n",
       "0  {'type': 'text/plain', 'language': None, 'base...   \n",
       "2  {'type': 'text/plain', 'language': None, 'base...   \n",
       "\n",
       "                                      wfw_commentrss  Title_lenght  \n",
       "0  https://www.oreilly.com/radar/bitcoin-and-the-...            49  \n",
       "2  https://www.oreilly.com/radar/highlights-from-...            76  "
      ]
     },
     "execution_count": 95,
     "metadata": {},
     "output_type": "execute_result"
    }
   ],
   "source": [
    "test"
   ]
  }
 ],
 "metadata": {
  "kernelspec": {
   "display_name": "Python 3",
   "language": "python",
   "name": "python3"
  },
  "language_info": {
   "codemirror_mode": {
    "name": "ipython",
    "version": 3
   },
   "file_extension": ".py",
   "mimetype": "text/x-python",
   "name": "python",
   "nbconvert_exporter": "python",
   "pygments_lexer": "ipython3",
   "version": "3.7.3"
  }
 },
 "nbformat": 4,
 "nbformat_minor": 2
}
